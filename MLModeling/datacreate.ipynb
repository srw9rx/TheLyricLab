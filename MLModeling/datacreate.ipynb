{
 "cells": [
  {
   "cell_type": "code",
   "execution_count": 9,
   "id": "distributed-illinois",
   "metadata": {},
   "outputs": [],
   "source": [
    "from datasets import load_dataset"
   ]
  },
  {
   "cell_type": "code",
   "execution_count": 10,
   "id": "hazardous-overall",
   "metadata": {},
   "outputs": [
    {
     "name": "stderr",
     "output_type": "stream",
     "text": [
      "Using custom data configuration Cropinky___rap_lyrics_english-5f15193caf3ddad2\n",
      "Reusing dataset text (/Users/sophiawalton/.cache/huggingface/datasets/text/Cropinky___rap_lyrics_english-5f15193caf3ddad2/0.0.0/e16f44aa1b321ece1f87b07977cc5d70be93d69b20486d6dacd62e12cf25c9a5)\n"
     ]
    },
    {
     "data": {
      "application/vnd.jupyter.widget-view+json": {
       "model_id": "d0858ad6408d44d981ce9d9109c19307",
       "version_major": 2,
       "version_minor": 0
      },
      "text/plain": [
       "  0%|          | 0/1 [00:00<?, ?it/s]"
      ]
     },
     "metadata": {},
     "output_type": "display_data"
    }
   ],
   "source": [
    "firstdataset = load_dataset(\"Cropinky/rap_lyrics_english\")"
   ]
  },
  {
   "cell_type": "code",
   "execution_count": 11,
   "id": "acquired-procedure",
   "metadata": {},
   "outputs": [
    {
     "name": "stdout",
     "output_type": "stream",
     "text": [
      "<class 'datasets.arrow_dataset.Dataset'>\n"
     ]
    }
   ],
   "source": [
    "data = firstdataset['train']\n",
    "print(type(firstdataset['train']))"
   ]
  },
  {
   "cell_type": "code",
   "execution_count": 8,
   "id": "tested-excess",
   "metadata": {},
   "outputs": [
    {
     "name": "stdout",
     "output_type": "stream",
     "text": [
      "Lil pump\n"
     ]
    }
   ],
   "source": [
    "print(data['text'][0])"
   ]
  },
  {
   "cell_type": "code",
   "execution_count": 12,
   "id": "furnished-lithuania",
   "metadata": {},
   "outputs": [
    {
     "name": "stdout",
     "output_type": "stream",
     "text": [
      "Dataset({\n",
      "    features: ['text'],\n",
      "    num_rows: 1181270\n",
      "})\n"
     ]
    }
   ],
   "source": [
    "print(data)"
   ]
  },
  {
   "cell_type": "code",
   "execution_count": 14,
   "id": "third-leadership",
   "metadata": {},
   "outputs": [
    {
     "name": "stdout",
     "output_type": "stream",
     "text": [
      "{'train': MemoryMappedTable\n",
      "text: string\n",
      "----\n",
      "text: [[\"Lil pump\",\"Lil wayne\",\"Lil Durk\",\"Lil B\",\"Lil Uzi Vert\",\"Lil Baby\",\"Lil Reese\",\"Lil Boosie\"],[\"The Notorious B.I.G. \",\"Big Pun\",\"Big L\",\"Nas\",\"50 Cent\",\"Prodigy\",\"Action Bronson\",\"Ill Bill\"],[\"Wu-Tang Clan\",\"Raekwon\",\"Ghostface Killah\",\"RZA\",\"GZA\",\"Ol' Dirty Bastard\",\"Method Man\",\"Inspectah Deck\",\"U-God\",\"Masta Killa\",\"Cappadonna\"],[\"Kanye West\"],[\"Lauryn Hill\",\"Jean Grae\",\"Lil Kim\",\"Missy Elliot\",\"Rah Digga\",\"MC Lyte\",\"Remy Ma\",\"Missy Elliott\",\"\",\"\",\"Foxy Brown\"],[\"<BOS>\",\"My Beyoncé[Chorus: Lil Durk]\",\"Ooh, I like the way she move\",\"Shorty my baby, my everything, she the truth\",\"Together we cool, me and her can't lose\",\"Keep 'em on their feet, baby, I know they so confused\",\"Shorty my Beyoncé\",\"Durk and DeJ, Durk and DeJ, Durk and DeJ\",\"Shorty my Beyoncé\",\"Durk and DeJ, Durk and DeJ, Durk and DeJ\",...,\"Bitches wanna talk shit, in the trap I bake some\",\"Niggas talk about robbing, bitch ain't never take none\",\"[Chorus]\",\"Money got me super tripping bitch\",\"Balmain super different bitch\",\"Since a kid I been that nigga bitch\",\"She ain't mad she that nigga bitch\",\"Glock 40 run up and get hit\",\"Turn up on em , Foe'Nem be lit\",\"Miss a shot , bend a block through they shit\"],[\"Hood love em we ain't tweaking shit\",\"Point Em out Foe'Nem T up on em\",\"You came with nothing Foe'Nem T up on em\",\"Yo ass stuntin Foe'Nem T up on em\",\"Yo ass a lame Foe'Nem T up on em1EmbedShare URLCopyEmbedCopy\",\"<EOS>\",\"<BOS>\",\"Let Em Know[Intro]\",\"Ayo Bleu\",\"Oh-ah\",...,\"December nights turn me cold nigga\",\"Never rat the street cold nigga\",\"Never been a Rico nigga\",\"Bought a plug the keys lil nigga\",\"Jewelry cost a kilo nigga\",\"\",\"[Hook: Lil Durk]\",\"Don't fall victim, victim, victim, victim, victim, victim\",\"Don't fall victim, victim, victim, victim, victim, victim\",\"Don't fall victim, victim, victim, victim, victim, victim\"],[\"Don't fall victim, victim, victim, victim, victim, victim1EmbedShare URLCopyEmbedCopy\",\"<EOS>\",\"<BOS>\",\"Drugz In My Life[Intro:]\",\"Hate being wasted\",\"Let's get it\",\"\",\"[Hook:]\",\"The drug man don't deliver\",\"I'm in this bitch so sober\",...,\"That's your girl? Wait, hold up, she ain't let me know it\",\"Instagram, she posting photos just hoping I notice\",\"Step in the club, they tryna get cameras in focus\",\"I'm a vampire, I do not like the light on me\",\"Fuck a friend, fuck a homie, I'm all by my lonely\",\"Kush smoking, wine pouring, at four in the morning\",\"Peep and Tracy, two Mercedes, we race to the castle\",\"No new friends, I feel like Drake, baby, I'm such a asshole\",\"Break the cocaine off the brick and put it in her asshole (Gothboiclique)\",\"Vampire in the moonlight, counting up the pesos\"],[\"[Chorus: Lil Peep]\",\"Blowing kisses in the wind, I'ma show her how I swim\",\"When the lights get dim and the time right\",\"We just met on meeting ends, I could fuck my bitch's friends\",\"I'ma fuck that bitch to death, yeah, her pussy tight\",\"Blowing kisses in the wind, I'ma show her how I swim\",\"When the lights get dim and the time right\",\"We just met on meeting ends, I could fuck my bitch's friends\",\"I'ma fuck that bitch to death, yeah, her pussy tight35EmbedShare URLCopyEmbedCopy\",\"<EOS>\",...,\"Fuck these haters, throw your board up if you skate too\",\"I send my goons to kill somebody, I need head proof\",\"Then they come through and sit it on my coffee table\",\"Tunechi – niggas don't appreciate you (don't appreciate you)\",\"You've been down since day one\",\"It meant nothin' on day two (damn)\",\"Sometimes the truth is hard to swallow, and to say, too\",\"But I graduated from that bullshit, now I hate school\",\"\",\"[Outro]\"],[\"And now I'm takin' over, now I'm takin' over (takin' over)\",\"The old me dead and gone, that's who I'm prayin' over\",\"Might have to go back to slangin' yola 'til the wait is over\",\"If so, then I got bakin' soda, I got bakin' soda...220EmbedShare URLCopyEmbedCopy\",\"<EOS>\",\"<BOS>\",\"Family Feud[Intro: Drake]\",\"Yeah, Dedication 6, of course\",\"Shout out Guru for sendin' me the beat, too\",\"Young Angel, Young Lion\",...,\"Just bring your friend, both of us'll eat her\",\"Hater niggas be hungry\",\"Got a hundred shots to feed 'em\",\"Her panties are down, her legs is up\",\"We finally fucked, she starved for months\",\"Don't give a fuck, still I'll hit\",\"Never no feelings, no love for these hoes\",\"No flowers, we're simple, we fucked in the Rolls\",\"No flowers, we're simple, we fucked in the Rolls\",\"Royce - trick!\"],...[\"There is no one that can get all the attention from all of the women\",\"But these hoes slow down, so I make 'em steady dissin'\",\"Sayin' tryin' to figure out - well keep my clock tickin'\",\"Walking into the office meeting with my watch hittin'\",\"Not because I am scared of getting robbed\",\"But I don't wanna be offensive to the executives in here\",\"I got more money then 'em, and they supposed to be the ones with good jobs\",\"High spitter then that nigga, I'm a hood star\",\"83 cut dough - that's my favorite hood call\",\"Corner park it up time that was my favorite hood walk\",...,\"I don't mind you just a bit, I'm like Cardi B 'cause i quit a lick ('cause i quit a lick, lick)\",\"(Mmm)\",\"\",\"[Verse 3]\",\"Had to let these felons know, just in case these hoes forgot\",\"I'm the baddest inmate on parole since 1985 (five, 1985)\",\"Ayy, i don't dance now, i make felon moves\",\"Said i don't gotta dance, i make felon moves\",\"If I see you and touch my gun, just know bullets is flying too\",\"I'm an inmate, you a worker, worker, i make felon moves, Remy<EOS>\"],[\"\",\"**************************************************\",\"Kill Screen a.k.a. Steve WiebeThis is rebel shit - Mojave rock\",\"Got polyglots, who'll molly whop you 'til your body pop\",\"I'm never sick, when my temperature drop, it's 7 Up\",\"105.6 hell, praise the rock\",\"I ain't a savior, just your neighbor like amazing Peter\",\"Minus the spider bite, the webs, the Aunt and Uncle neither\",\"But save the reasoning, the need to tuck the dynamite\",\"To even up the nonbelievers\",...,\"Put yah dukes up, \"The Gooch's\" back, panic, panic\",\"And if you think that I'm playin' nigga can it (you don't want it, no)\",\"Stop poppin' your mouth, you know (you don't want it, no)\",\"East, West, North, to the South, I go (you don't want it, no)\",\"Yah can't stop me come on, the Jeans drop and he gone\",\"Bout to brawl with everybody in this song (you don't want it, no)\",\"\",\"[Outro]\",\"So serious right now man (Mafia)\",\"The Gooch (wooo)\"],[\"\",\"**************************************************\",\"Doo Wop (That Thing)[Intro]\",\"Yo, remember back on the Bully\",\"When cats used to harmonize like\",\"Yo, yo, my men and my women\",\"Don't forget about the deen\",\"Sirat al-Mustaqeem\",\"Yo, it's about a thing, uh, yo, yo\",\"If ya feel real good wave your hands in the air\",...,\"The world we live in now is, in many ways, an abhorrent distortion, an accumulation of generations and generations of response to negative stimuli. Many don’t even have a concept of what normal is, by virtue of having lived afraid, ashamed, as victims of abuse, or inadequately handled for so long. I believe in coming up from under that fear and allowing the psyche/soul to truly heal. I understand that healing is a process, but I also believe that it is our responsibility to seriously care for ourselves, so that we can extend that level of concern for others and positively affect our environment.\",\"\",\"I want what is best for Humanity. Humanity, aligned with the Spiritual principles, that help each individual conquer fear, and transcend limited circumstance. I believe in healing and dealing with the traumatizing events of our lives, both in this lifetime, as well as those passed down to us, or inherited, so we can live as fully as possible.\",\"\",\"The whole world suffers from a lack of honest dialogue. Character and integrity have suffered at the hands of political correctness and corporate agenda, while our society moves further and further towards unhealthiness and breakdown. I oppose these trends.\",\"\",\"Everyone has a right to their own beliefs. Although I do not necessarily agree with what everyone says or does, I do believe in everyone’s right to protest.\",\"The overarching message of my music is to get up and stop compromising! And hopefully it will stimulate and motivate the changes that our society needs.\",\"\",\"Artists are constantly under media and public scrutiny. This is not a one-way street. Those of us with the charge of putting out faithful vibrations, have a responsibility to report what we see, and to write about what we know. I have seen some of the best and also some of the worst representations of human behavior. The same way that I exalt that which is high, is the same way I expose that which is abusive, in order to motivate and remind if not all of us, than as many as possible, of the Higher Calling.\"],[\"\",\"**************************************************\",\"Crush on You (Remix)[Intro: Lil' Cease & Lil' Kim]\",\"Undeas!\",\"Lil Ceaser!\",\"Queen B!\",\"That's Me!\",\"Lil' Kim!\",\"\",\"[Verse 1: Lil' Cease]\",...,\"Wha you waan we do\",\"A wha you mean\",\"Ah murda we haffi murda some pussy hole\",\"Yuh dun kno (yea)\",\"Blood clat.. a wha dat (check, check, check.. mm)\",\"\",\"[Lil' Kim :Verse 1]\",\"My poppa taught me how to ride dicks\",\"Cut em off, freeze 'em, and use 'em as ice picks (yea, yea)\",\"Hard times baby\"],[\"Got bitches upstate doing 2-8\",\"For first degree rape\",\"But I can't get uptake\",\"My name hold weight (wha you seh)\",\"Like I said my name hold weight (dun kno)\",\"Pussy is the bait (dun kno)\",\"Around the way they call me the pink panther\",\"Ask Leon Ganther, (haha bout)\",\"Haha, he know\",\"The rap Josephine Baker\",...,\"And he don't get hard for you 'cuz i wore him out\",\"\",\"Yeah, Kimmy Blanco, uh huh, IRS\",\"Y'all already know what it is\",\"It's tax season we coming to collect\",\"\",\"What you gon' do when IRS come for you?\",\"Pay that money\",\"What you gon' do when IRS come for you?\",\"Pay that money\"],[\"\",\"**************************************************\",\"Cold Rock A Party (Bad Boy Remix)[Intro: Puff Daddy & MC Lyte]\",\"I thought I told you that we won't stop\",\"I rock the party that rocks your body\",\"I rock the party that rocks your body (Let's go)\",\"Yeah, uh-huh, yeah\",\"Uh-huh, yeah\",\"Uh-huh, yeah\",\"The remix, haha\",...,\"Not with the foul way that you choose to live\",\"Motherf**ka -- you know what/\",\"Just, just take your shit all right! Just take it!\",\"Cause I'm sick of this shit - I can't take it no more\",\"Just take it, I don't know who the f**k you think you are\",\"Thinking you could just come back here and try to enter my life -- like I need you\",\"I don't -- I'm thru with you motherf**ka\",\"Just get out! You put me thru too much heartache\",\"Too much shit\",\"I had to go thru -- I can't do it no more\"],[\"\",\"**************************************************\",\"Work It[Intro]\",\"DJ, please pick up your phone, I'm on the request line\",\"This is a Missy Elliott one-time exclusive, come on\",\"\",\"[Chorus]\",\"Is it worth it? Let me work it\",\"I put my thing down, flip it and reverse it\",\"Ti esrever dna ti pilf, nwod gniht ym tup\",...,\"[Chorus]\",\"Once you get me, will you know how to act?\",\"Will you do me right? (Ooh, I need to know, I need to know)\",\"Once you get me, will you keep my pockets fat?\",\"Keep me lookin' tight? (Ooh-oh, yeah, yeah)\",\"\",\"[Verse 2]\",\"I wanna give it some time and get to know each other\",\"Let's be friends before we think about bein' lovers\",\"Ain't no need to rush it if this is forever\"],[\"If you wait on this love, I promise it'll get mo' better and better\",\"\",\"[Chorus]\",\"Once you get me, will you know how to act?\",\"Will you do me right? (Do me right, oh-oh)\",\"Once you get me, will you keep my pockets fat?\",\"Keep me lookin' tight? (Lookin' tight, oh-oh)\",\"\",\"[Bridge]\",\"Flashlights (Flashlight)\",...,\"And all I can say.......\",\"\",\"(When I sing)\",\"Is when I sing this song\",\"I get so teary eyed\",\"Cuz you get under my skin\",\"Can't let you suck me dry\",\"I was gonna marry you, have kids for you\",\"Stay true to you, live life wit you\",\"But look what you've done to me (meeeeeee)\"],[\"\",\"**************************************************\",\"Fuck Y’all Niggas* the same song appears on the outsidaz \"night life\" ep\",\"\",\"Intro\",\"Yeah, rah digga once again, about to set it on niggas\",\"Representing for all my bitches across the globe\",\"Ladies we gon' set it one time, c'mon...\",\"\",\"Chorus 1 (rah digga)\",...,\"And you can't be as fly as she\",\"(Never be as fly as me)\",\"Cool\",\"Money baby can't you see\",\"(Can't you see, can't you see)\",\"She's so cool\",\"And you can't be as fly as she\",\"(Never be as fly as me)\",\"She's so, so\",\"You can't be as fly as she, oh\"],[\"\",\"**************************************************\",\"ShETHER[Intro:  Nicki Minaj  & Remy Ma]\",\"Free Remy!\",\"(Word)\",\"You know what? Free Remy!\",\"Fuck you, Free Remy!\",\"(Fuck Nicki Minaj!)\",\"Are you dumb?\",\"You wore a pink diamond chicken wing chain (Are you dumb?)\",...,\"I don't mind you just a bit, I'm like Cardi B 'cause i quit a lick ('cause i quit a lick, lick)\",\"(Mmm)\",\"\",\"[Verse 3]\",\"Had to let these felons know, just in case these hoes forgot\",\"I'm the baddest inmate on parole since 1985 (five, 1985)\",\"Ayy, i don't dance now, i make felon moves\",\"Said i don't gotta dance, i make felon moves\",\"If I see you and touch my gun, just know bullets is flying too\",\"I'm an inmate, you a worker, worker, i make felon moves, Remy\"]]}\n"
     ]
    }
   ],
   "source": [
    "print(firstdataset.data)"
   ]
  },
  {
   "cell_type": "code",
   "execution_count": 28,
   "id": "developmental-rally",
   "metadata": {},
   "outputs": [
    {
     "name": "stdout",
     "output_type": "stream",
     "text": [
      "<class 'datasets.dataset_dict.DatasetDict'>\n"
     ]
    }
   ],
   "source": [
    "trainvals = list(firstdataset.data)\n",
    "print(type(firstdataset))"
   ]
  },
  {
   "cell_type": "code",
   "execution_count": 47,
   "id": "sealed-column",
   "metadata": {},
   "outputs": [
    {
     "ename": "KeyboardInterrupt",
     "evalue": "",
     "output_type": "error",
     "traceback": [
      "\u001b[0;31m---------------------------------------------------------------------------\u001b[0m",
      "\u001b[0;31mKeyboardInterrupt\u001b[0m                         Traceback (most recent call last)",
      "\u001b[0;32m/var/folders/jy/z2bdfqjs5bbd3ppn8gqv0ggm0000gn/T/ipykernel_47421/395470674.py\u001b[0m in \u001b[0;36m<module>\u001b[0;34m\u001b[0m\n\u001b[1;32m      1\u001b[0m \u001b[0;32mfrom\u001b[0m \u001b[0mdatasets\u001b[0m \u001b[0;32mimport\u001b[0m \u001b[0mDataset\u001b[0m\u001b[0;34m\u001b[0m\u001b[0;34m\u001b[0m\u001b[0m\n\u001b[0;32m----> 2\u001b[0;31m \u001b[0mdata\u001b[0m \u001b[0;34m=\u001b[0m \u001b[0mDataset\u001b[0m\u001b[0;34m.\u001b[0m\u001b[0mfrom_dict\u001b[0m\u001b[0;34m(\u001b[0m\u001b[0mfirstdataset\u001b[0m\u001b[0;34m)\u001b[0m\u001b[0;34m\u001b[0m\u001b[0;34m\u001b[0m\u001b[0m\n\u001b[0m\u001b[1;32m      3\u001b[0m \u001b[0mprint\u001b[0m\u001b[0;34m(\u001b[0m\u001b[0;34m(\u001b[0m\u001b[0mdata\u001b[0m\u001b[0;34m)\u001b[0m\u001b[0;34m[\u001b[0m\u001b[0;36m0\u001b[0m\u001b[0;34m]\u001b[0m\u001b[0;34m)\u001b[0m\u001b[0;34m\u001b[0m\u001b[0;34m\u001b[0m\u001b[0m\n",
      "\u001b[0;32m/Library/Frameworks/Python.framework/Versions/3.9/lib/python3.9/site-packages/datasets/arrow_dataset.py\u001b[0m in \u001b[0;36mfrom_dict\u001b[0;34m(cls, mapping, features, info, split)\u001b[0m\n\u001b[1;32m    783\u001b[0m             \u001b[0;32mfor\u001b[0m \u001b[0mcol\u001b[0m\u001b[0;34m,\u001b[0m \u001b[0mdata\u001b[0m \u001b[0;32min\u001b[0m \u001b[0mmapping\u001b[0m\u001b[0;34m.\u001b[0m\u001b[0mitems\u001b[0m\u001b[0;34m(\u001b[0m\u001b[0;34m)\u001b[0m\u001b[0;34m\u001b[0m\u001b[0;34m\u001b[0m\u001b[0m\n\u001b[1;32m    784\u001b[0m         }\n\u001b[0;32m--> 785\u001b[0;31m         \u001b[0mpa_table\u001b[0m \u001b[0;34m=\u001b[0m \u001b[0mInMemoryTable\u001b[0m\u001b[0;34m.\u001b[0m\u001b[0mfrom_pydict\u001b[0m\u001b[0;34m(\u001b[0m\u001b[0mmapping\u001b[0m\u001b[0;34m=\u001b[0m\u001b[0mmapping\u001b[0m\u001b[0;34m)\u001b[0m\u001b[0;34m\u001b[0m\u001b[0;34m\u001b[0m\u001b[0m\n\u001b[0m\u001b[1;32m    786\u001b[0m         \u001b[0;32mreturn\u001b[0m \u001b[0mcls\u001b[0m\u001b[0;34m(\u001b[0m\u001b[0mpa_table\u001b[0m\u001b[0;34m,\u001b[0m \u001b[0minfo\u001b[0m\u001b[0;34m=\u001b[0m\u001b[0minfo\u001b[0m\u001b[0;34m,\u001b[0m \u001b[0msplit\u001b[0m\u001b[0;34m=\u001b[0m\u001b[0msplit\u001b[0m\u001b[0;34m)\u001b[0m\u001b[0;34m\u001b[0m\u001b[0;34m\u001b[0m\u001b[0m\n\u001b[1;32m    787\u001b[0m \u001b[0;34m\u001b[0m\u001b[0m\n",
      "\u001b[0;32m/Library/Frameworks/Python.framework/Versions/3.9/lib/python3.9/site-packages/datasets/table.py\u001b[0m in \u001b[0;36mfrom_pydict\u001b[0;34m(cls, *args, **kwargs)\u001b[0m\n\u001b[1;32m    367\u001b[0m     \u001b[0;34m@\u001b[0m\u001b[0mclassmethod\u001b[0m\u001b[0;34m\u001b[0m\u001b[0;34m\u001b[0m\u001b[0m\n\u001b[1;32m    368\u001b[0m     \u001b[0;32mdef\u001b[0m \u001b[0mfrom_pydict\u001b[0m\u001b[0;34m(\u001b[0m\u001b[0mcls\u001b[0m\u001b[0;34m,\u001b[0m \u001b[0;34m*\u001b[0m\u001b[0margs\u001b[0m\u001b[0;34m,\u001b[0m \u001b[0;34m**\u001b[0m\u001b[0mkwargs\u001b[0m\u001b[0;34m)\u001b[0m\u001b[0;34m:\u001b[0m\u001b[0;34m\u001b[0m\u001b[0;34m\u001b[0m\u001b[0m\n\u001b[0;32m--> 369\u001b[0;31m         \u001b[0;32mreturn\u001b[0m \u001b[0mcls\u001b[0m\u001b[0;34m(\u001b[0m\u001b[0mpa\u001b[0m\u001b[0;34m.\u001b[0m\u001b[0mTable\u001b[0m\u001b[0;34m.\u001b[0m\u001b[0mfrom_pydict\u001b[0m\u001b[0;34m(\u001b[0m\u001b[0;34m*\u001b[0m\u001b[0margs\u001b[0m\u001b[0;34m,\u001b[0m \u001b[0;34m**\u001b[0m\u001b[0mkwargs\u001b[0m\u001b[0;34m)\u001b[0m\u001b[0;34m)\u001b[0m\u001b[0;34m\u001b[0m\u001b[0;34m\u001b[0m\u001b[0m\n\u001b[0m\u001b[1;32m    370\u001b[0m \u001b[0;34m\u001b[0m\u001b[0m\n\u001b[1;32m    371\u001b[0m     \u001b[0;34m@\u001b[0m\u001b[0minject_arrow_table_documentation\u001b[0m\u001b[0;34m(\u001b[0m\u001b[0mpa\u001b[0m\u001b[0;34m.\u001b[0m\u001b[0mTable\u001b[0m\u001b[0;34m.\u001b[0m\u001b[0mfrom_batches\u001b[0m\u001b[0;34m)\u001b[0m\u001b[0;34m\u001b[0m\u001b[0;34m\u001b[0m\u001b[0m\n",
      "\u001b[0;32m/Library/Frameworks/Python.framework/Versions/3.9/lib/python3.9/site-packages/pyarrow/table.pxi\u001b[0m in \u001b[0;36mpyarrow.lib.Table.from_pydict\u001b[0;34m()\u001b[0m\n",
      "\u001b[0;32m/Library/Frameworks/Python.framework/Versions/3.9/lib/python3.9/site-packages/pyarrow/table.pxi\u001b[0m in \u001b[0;36mpyarrow.lib._from_pydict\u001b[0;34m()\u001b[0m\n",
      "\u001b[0;32m/Library/Frameworks/Python.framework/Versions/3.9/lib/python3.9/site-packages/pyarrow/array.pxi\u001b[0m in \u001b[0;36mpyarrow.lib.asarray\u001b[0;34m()\u001b[0m\n",
      "\u001b[0;32m/Library/Frameworks/Python.framework/Versions/3.9/lib/python3.9/site-packages/pyarrow/array.pxi\u001b[0m in \u001b[0;36mpyarrow.lib.array\u001b[0;34m()\u001b[0m\n",
      "\u001b[0;32m/Library/Frameworks/Python.framework/Versions/3.9/lib/python3.9/site-packages/pyarrow/array.pxi\u001b[0m in \u001b[0;36mpyarrow.lib._handle_arrow_array_protocol\u001b[0;34m()\u001b[0m\n",
      "\u001b[0;32m/Library/Frameworks/Python.framework/Versions/3.9/lib/python3.9/site-packages/datasets/arrow_writer.py\u001b[0m in \u001b[0;36m__arrow_array__\u001b[0;34m(self, type)\u001b[0m\n\u001b[1;32m    119\u001b[0m                     \u001b[0mout\u001b[0m \u001b[0;34m=\u001b[0m \u001b[0mout\u001b[0m\u001b[0;34m.\u001b[0m\u001b[0mcast\u001b[0m\u001b[0;34m(\u001b[0m\u001b[0mtype\u001b[0m\u001b[0;34m)\u001b[0m\u001b[0;34m\u001b[0m\u001b[0;34m\u001b[0m\u001b[0m\n\u001b[1;32m    120\u001b[0m             \u001b[0;32melse\u001b[0m\u001b[0;34m:\u001b[0m\u001b[0;34m\u001b[0m\u001b[0;34m\u001b[0m\u001b[0m\n\u001b[0;32m--> 121\u001b[0;31m                 \u001b[0mout\u001b[0m \u001b[0;34m=\u001b[0m \u001b[0mpa\u001b[0m\u001b[0;34m.\u001b[0m\u001b[0marray\u001b[0m\u001b[0;34m(\u001b[0m\u001b[0mcast_to_python_objects\u001b[0m\u001b[0;34m(\u001b[0m\u001b[0mself\u001b[0m\u001b[0;34m.\u001b[0m\u001b[0mdata\u001b[0m\u001b[0;34m,\u001b[0m \u001b[0monly_1d_for_numpy\u001b[0m\u001b[0;34m=\u001b[0m\u001b[0;32mTrue\u001b[0m\u001b[0;34m)\u001b[0m\u001b[0;34m,\u001b[0m \u001b[0mtype\u001b[0m\u001b[0;34m=\u001b[0m\u001b[0mtype\u001b[0m\u001b[0;34m)\u001b[0m\u001b[0;34m\u001b[0m\u001b[0;34m\u001b[0m\u001b[0m\n\u001b[0m\u001b[1;32m    122\u001b[0m             \u001b[0;32mif\u001b[0m \u001b[0mtrying_type\u001b[0m\u001b[0;34m:\u001b[0m\u001b[0;34m\u001b[0m\u001b[0;34m\u001b[0m\u001b[0m\n\u001b[1;32m    123\u001b[0m                 is_equal = (\n",
      "\u001b[0;32m/Library/Frameworks/Python.framework/Versions/3.9/lib/python3.9/site-packages/pyarrow/array.pxi\u001b[0m in \u001b[0;36mpyarrow.lib.array\u001b[0;34m()\u001b[0m\n",
      "\u001b[0;32m/Library/Frameworks/Python.framework/Versions/3.9/lib/python3.9/site-packages/pyarrow/array.pxi\u001b[0m in \u001b[0;36mpyarrow.lib._sequence_to_array\u001b[0;34m()\u001b[0m\n",
      "\u001b[0;32m/Library/Frameworks/Python.framework/Versions/3.9/lib/python3.9/site-packages/pyarrow/error.pxi\u001b[0m in \u001b[0;36mpyarrow.lib.pyarrow_internal_check_status\u001b[0;34m()\u001b[0m\n",
      "\u001b[0;32m/Library/Frameworks/Python.framework/Versions/3.9/lib/python3.9/site-packages/datasets/arrow_dataset.py\u001b[0m in \u001b[0;36m__getitem__\u001b[0;34m(self, key)\u001b[0m\n\u001b[1;32m   1855\u001b[0m     \u001b[0;32mdef\u001b[0m \u001b[0m__getitem__\u001b[0m\u001b[0;34m(\u001b[0m\u001b[0mself\u001b[0m\u001b[0;34m,\u001b[0m \u001b[0mkey\u001b[0m\u001b[0;34m:\u001b[0m \u001b[0mUnion\u001b[0m\u001b[0;34m[\u001b[0m\u001b[0mint\u001b[0m\u001b[0;34m,\u001b[0m \u001b[0mslice\u001b[0m\u001b[0;34m,\u001b[0m \u001b[0mstr\u001b[0m\u001b[0;34m]\u001b[0m\u001b[0;34m)\u001b[0m \u001b[0;34m->\u001b[0m \u001b[0mUnion\u001b[0m\u001b[0;34m[\u001b[0m\u001b[0mDict\u001b[0m\u001b[0;34m,\u001b[0m \u001b[0mList\u001b[0m\u001b[0;34m]\u001b[0m\u001b[0;34m:\u001b[0m\u001b[0;34m\u001b[0m\u001b[0;34m\u001b[0m\u001b[0m\n\u001b[1;32m   1856\u001b[0m         \u001b[0;34m\"\"\"Can be used to index columns (by string names) or rows (by integer index or iterable of indices or bools).\"\"\"\u001b[0m\u001b[0;34m\u001b[0m\u001b[0;34m\u001b[0m\u001b[0m\n\u001b[0;32m-> 1857\u001b[0;31m         return self._getitem(\n\u001b[0m\u001b[1;32m   1858\u001b[0m             \u001b[0mkey\u001b[0m\u001b[0;34m,\u001b[0m\u001b[0;34m\u001b[0m\u001b[0;34m\u001b[0m\u001b[0m\n\u001b[1;32m   1859\u001b[0m         )\n",
      "\u001b[0;32m/Library/Frameworks/Python.framework/Versions/3.9/lib/python3.9/site-packages/datasets/arrow_dataset.py\u001b[0m in \u001b[0;36m_getitem\u001b[0;34m(self, key, decoded, **kwargs)\u001b[0m\n\u001b[1;32m   1848\u001b[0m         \u001b[0mformatter\u001b[0m \u001b[0;34m=\u001b[0m \u001b[0mget_formatter\u001b[0m\u001b[0;34m(\u001b[0m\u001b[0mformat_type\u001b[0m\u001b[0;34m,\u001b[0m \u001b[0mfeatures\u001b[0m\u001b[0;34m=\u001b[0m\u001b[0mself\u001b[0m\u001b[0;34m.\u001b[0m\u001b[0mfeatures\u001b[0m\u001b[0;34m,\u001b[0m \u001b[0mdecoded\u001b[0m\u001b[0;34m=\u001b[0m\u001b[0mdecoded\u001b[0m\u001b[0;34m,\u001b[0m \u001b[0;34m**\u001b[0m\u001b[0mformat_kwargs\u001b[0m\u001b[0;34m)\u001b[0m\u001b[0;34m\u001b[0m\u001b[0;34m\u001b[0m\u001b[0m\n\u001b[1;32m   1849\u001b[0m         \u001b[0mpa_subtable\u001b[0m \u001b[0;34m=\u001b[0m \u001b[0mquery_table\u001b[0m\u001b[0;34m(\u001b[0m\u001b[0mself\u001b[0m\u001b[0;34m.\u001b[0m\u001b[0m_data\u001b[0m\u001b[0;34m,\u001b[0m \u001b[0mkey\u001b[0m\u001b[0;34m,\u001b[0m \u001b[0mindices\u001b[0m\u001b[0;34m=\u001b[0m\u001b[0mself\u001b[0m\u001b[0;34m.\u001b[0m\u001b[0m_indices\u001b[0m \u001b[0;32mif\u001b[0m \u001b[0mself\u001b[0m\u001b[0;34m.\u001b[0m\u001b[0m_indices\u001b[0m \u001b[0;32mis\u001b[0m \u001b[0;32mnot\u001b[0m \u001b[0;32mNone\u001b[0m \u001b[0;32melse\u001b[0m \u001b[0;32mNone\u001b[0m\u001b[0;34m)\u001b[0m\u001b[0;34m\u001b[0m\u001b[0;34m\u001b[0m\u001b[0m\n\u001b[0;32m-> 1850\u001b[0;31m         formatted_output = format_table(\n\u001b[0m\u001b[1;32m   1851\u001b[0m             \u001b[0mpa_subtable\u001b[0m\u001b[0;34m,\u001b[0m \u001b[0mkey\u001b[0m\u001b[0;34m,\u001b[0m \u001b[0mformatter\u001b[0m\u001b[0;34m=\u001b[0m\u001b[0mformatter\u001b[0m\u001b[0;34m,\u001b[0m \u001b[0mformat_columns\u001b[0m\u001b[0;34m=\u001b[0m\u001b[0mformat_columns\u001b[0m\u001b[0;34m,\u001b[0m \u001b[0moutput_all_columns\u001b[0m\u001b[0;34m=\u001b[0m\u001b[0moutput_all_columns\u001b[0m\u001b[0;34m\u001b[0m\u001b[0;34m\u001b[0m\u001b[0m\n\u001b[1;32m   1852\u001b[0m         )\n",
      "\u001b[0;32m/Library/Frameworks/Python.framework/Versions/3.9/lib/python3.9/site-packages/datasets/formatting/formatting.py\u001b[0m in \u001b[0;36mformat_table\u001b[0;34m(table, key, formatter, format_columns, output_all_columns)\u001b[0m\n\u001b[1;32m    506\u001b[0m     \u001b[0mpython_formatter\u001b[0m \u001b[0;34m=\u001b[0m \u001b[0mPythonFormatter\u001b[0m\u001b[0;34m(\u001b[0m\u001b[0mfeatures\u001b[0m\u001b[0;34m=\u001b[0m\u001b[0;32mNone\u001b[0m\u001b[0;34m)\u001b[0m\u001b[0;34m\u001b[0m\u001b[0;34m\u001b[0m\u001b[0m\n\u001b[1;32m    507\u001b[0m     \u001b[0;32mif\u001b[0m \u001b[0mformat_columns\u001b[0m \u001b[0;32mis\u001b[0m \u001b[0;32mNone\u001b[0m\u001b[0;34m:\u001b[0m\u001b[0;34m\u001b[0m\u001b[0;34m\u001b[0m\u001b[0m\n\u001b[0;32m--> 508\u001b[0;31m         \u001b[0;32mreturn\u001b[0m \u001b[0mformatter\u001b[0m\u001b[0;34m(\u001b[0m\u001b[0mpa_table\u001b[0m\u001b[0;34m,\u001b[0m \u001b[0mquery_type\u001b[0m\u001b[0;34m=\u001b[0m\u001b[0mquery_type\u001b[0m\u001b[0;34m)\u001b[0m\u001b[0;34m\u001b[0m\u001b[0;34m\u001b[0m\u001b[0m\n\u001b[0m\u001b[1;32m    509\u001b[0m     \u001b[0;32melif\u001b[0m \u001b[0mquery_type\u001b[0m \u001b[0;34m==\u001b[0m \u001b[0;34m\"column\"\u001b[0m\u001b[0;34m:\u001b[0m\u001b[0;34m\u001b[0m\u001b[0;34m\u001b[0m\u001b[0m\n\u001b[1;32m    510\u001b[0m         \u001b[0;32mif\u001b[0m \u001b[0mkey\u001b[0m \u001b[0;32min\u001b[0m \u001b[0mformat_columns\u001b[0m\u001b[0;34m:\u001b[0m\u001b[0;34m\u001b[0m\u001b[0;34m\u001b[0m\u001b[0m\n",
      "\u001b[0;32m/Library/Frameworks/Python.framework/Versions/3.9/lib/python3.9/site-packages/datasets/formatting/formatting.py\u001b[0m in \u001b[0;36m__call__\u001b[0;34m(self, pa_table, query_type)\u001b[0m\n\u001b[1;32m    255\u001b[0m     \u001b[0;32mdef\u001b[0m \u001b[0m__call__\u001b[0m\u001b[0;34m(\u001b[0m\u001b[0mself\u001b[0m\u001b[0;34m,\u001b[0m \u001b[0mpa_table\u001b[0m\u001b[0;34m:\u001b[0m \u001b[0mpa\u001b[0m\u001b[0;34m.\u001b[0m\u001b[0mTable\u001b[0m\u001b[0;34m,\u001b[0m \u001b[0mquery_type\u001b[0m\u001b[0;34m:\u001b[0m \u001b[0mstr\u001b[0m\u001b[0;34m)\u001b[0m \u001b[0;34m->\u001b[0m \u001b[0mUnion\u001b[0m\u001b[0;34m[\u001b[0m\u001b[0mRowFormat\u001b[0m\u001b[0;34m,\u001b[0m \u001b[0mColumnFormat\u001b[0m\u001b[0;34m,\u001b[0m \u001b[0mBatchFormat\u001b[0m\u001b[0;34m]\u001b[0m\u001b[0;34m:\u001b[0m\u001b[0;34m\u001b[0m\u001b[0;34m\u001b[0m\u001b[0m\n\u001b[1;32m    256\u001b[0m         \u001b[0;32mif\u001b[0m \u001b[0mquery_type\u001b[0m \u001b[0;34m==\u001b[0m \u001b[0;34m\"row\"\u001b[0m\u001b[0;34m:\u001b[0m\u001b[0;34m\u001b[0m\u001b[0;34m\u001b[0m\u001b[0m\n\u001b[0;32m--> 257\u001b[0;31m             \u001b[0;32mreturn\u001b[0m \u001b[0mself\u001b[0m\u001b[0;34m.\u001b[0m\u001b[0mformat_row\u001b[0m\u001b[0;34m(\u001b[0m\u001b[0mpa_table\u001b[0m\u001b[0;34m)\u001b[0m\u001b[0;34m\u001b[0m\u001b[0;34m\u001b[0m\u001b[0m\n\u001b[0m\u001b[1;32m    258\u001b[0m         \u001b[0;32melif\u001b[0m \u001b[0mquery_type\u001b[0m \u001b[0;34m==\u001b[0m \u001b[0;34m\"column\"\u001b[0m\u001b[0;34m:\u001b[0m\u001b[0;34m\u001b[0m\u001b[0;34m\u001b[0m\u001b[0m\n\u001b[1;32m    259\u001b[0m             \u001b[0;32mreturn\u001b[0m \u001b[0mself\u001b[0m\u001b[0;34m.\u001b[0m\u001b[0mformat_column\u001b[0m\u001b[0;34m(\u001b[0m\u001b[0mpa_table\u001b[0m\u001b[0;34m)\u001b[0m\u001b[0;34m\u001b[0m\u001b[0;34m\u001b[0m\u001b[0m\n",
      "\u001b[0;32m/Library/Frameworks/Python.framework/Versions/3.9/lib/python3.9/site-packages/datasets/formatting/formatting.py\u001b[0m in \u001b[0;36mformat_row\u001b[0;34m(self, pa_table)\u001b[0m\n\u001b[1;32m    284\u001b[0m \u001b[0;32mclass\u001b[0m \u001b[0mPythonFormatter\u001b[0m\u001b[0;34m(\u001b[0m\u001b[0mFormatter\u001b[0m\u001b[0;34m[\u001b[0m\u001b[0mdict\u001b[0m\u001b[0;34m,\u001b[0m \u001b[0mlist\u001b[0m\u001b[0;34m,\u001b[0m \u001b[0mdict\u001b[0m\u001b[0;34m]\u001b[0m\u001b[0;34m)\u001b[0m\u001b[0;34m:\u001b[0m\u001b[0;34m\u001b[0m\u001b[0;34m\u001b[0m\u001b[0m\n\u001b[1;32m    285\u001b[0m     \u001b[0;32mdef\u001b[0m \u001b[0mformat_row\u001b[0m\u001b[0;34m(\u001b[0m\u001b[0mself\u001b[0m\u001b[0;34m,\u001b[0m \u001b[0mpa_table\u001b[0m\u001b[0;34m:\u001b[0m \u001b[0mpa\u001b[0m\u001b[0;34m.\u001b[0m\u001b[0mTable\u001b[0m\u001b[0;34m)\u001b[0m \u001b[0;34m->\u001b[0m \u001b[0mdict\u001b[0m\u001b[0;34m:\u001b[0m\u001b[0;34m\u001b[0m\u001b[0;34m\u001b[0m\u001b[0m\n\u001b[0;32m--> 286\u001b[0;31m         \u001b[0mrow\u001b[0m \u001b[0;34m=\u001b[0m \u001b[0mself\u001b[0m\u001b[0;34m.\u001b[0m\u001b[0mpython_arrow_extractor\u001b[0m\u001b[0;34m(\u001b[0m\u001b[0;34m)\u001b[0m\u001b[0;34m.\u001b[0m\u001b[0mextract_row\u001b[0m\u001b[0;34m(\u001b[0m\u001b[0mpa_table\u001b[0m\u001b[0;34m)\u001b[0m\u001b[0;34m\u001b[0m\u001b[0;34m\u001b[0m\u001b[0m\n\u001b[0m\u001b[1;32m    287\u001b[0m         \u001b[0;32mif\u001b[0m \u001b[0mself\u001b[0m\u001b[0;34m.\u001b[0m\u001b[0mdecoded\u001b[0m\u001b[0;34m:\u001b[0m\u001b[0;34m\u001b[0m\u001b[0;34m\u001b[0m\u001b[0m\n\u001b[1;32m    288\u001b[0m             \u001b[0mrow\u001b[0m \u001b[0;34m=\u001b[0m \u001b[0mself\u001b[0m\u001b[0;34m.\u001b[0m\u001b[0mpython_features_decoder\u001b[0m\u001b[0;34m.\u001b[0m\u001b[0mdecode_row\u001b[0m\u001b[0;34m(\u001b[0m\u001b[0mrow\u001b[0m\u001b[0;34m)\u001b[0m\u001b[0;34m\u001b[0m\u001b[0;34m\u001b[0m\u001b[0m\n",
      "\u001b[0;32m/Library/Frameworks/Python.framework/Versions/3.9/lib/python3.9/site-packages/datasets/formatting/formatting.py\u001b[0m in \u001b[0;36mextract_row\u001b[0;34m(self, pa_table)\u001b[0m\n\u001b[1;32m    132\u001b[0m \u001b[0;32mclass\u001b[0m \u001b[0mPythonArrowExtractor\u001b[0m\u001b[0;34m(\u001b[0m\u001b[0mBaseArrowExtractor\u001b[0m\u001b[0;34m[\u001b[0m\u001b[0mdict\u001b[0m\u001b[0;34m,\u001b[0m \u001b[0mlist\u001b[0m\u001b[0;34m,\u001b[0m \u001b[0mdict\u001b[0m\u001b[0;34m]\u001b[0m\u001b[0;34m)\u001b[0m\u001b[0;34m:\u001b[0m\u001b[0;34m\u001b[0m\u001b[0;34m\u001b[0m\u001b[0m\n\u001b[1;32m    133\u001b[0m     \u001b[0;32mdef\u001b[0m \u001b[0mextract_row\u001b[0m\u001b[0;34m(\u001b[0m\u001b[0mself\u001b[0m\u001b[0;34m,\u001b[0m \u001b[0mpa_table\u001b[0m\u001b[0;34m:\u001b[0m \u001b[0mpa\u001b[0m\u001b[0;34m.\u001b[0m\u001b[0mTable\u001b[0m\u001b[0;34m)\u001b[0m \u001b[0;34m->\u001b[0m \u001b[0mdict\u001b[0m\u001b[0;34m:\u001b[0m\u001b[0;34m\u001b[0m\u001b[0;34m\u001b[0m\u001b[0m\n\u001b[0;32m--> 134\u001b[0;31m         \u001b[0;32mreturn\u001b[0m \u001b[0m_unnest\u001b[0m\u001b[0;34m(\u001b[0m\u001b[0mpa_table\u001b[0m\u001b[0;34m.\u001b[0m\u001b[0mto_pydict\u001b[0m\u001b[0;34m(\u001b[0m\u001b[0;34m)\u001b[0m\u001b[0;34m)\u001b[0m\u001b[0;34m\u001b[0m\u001b[0;34m\u001b[0m\u001b[0m\n\u001b[0m\u001b[1;32m    135\u001b[0m \u001b[0;34m\u001b[0m\u001b[0m\n\u001b[1;32m    136\u001b[0m     \u001b[0;32mdef\u001b[0m \u001b[0mextract_column\u001b[0m\u001b[0;34m(\u001b[0m\u001b[0mself\u001b[0m\u001b[0;34m,\u001b[0m \u001b[0mpa_table\u001b[0m\u001b[0;34m:\u001b[0m \u001b[0mpa\u001b[0m\u001b[0;34m.\u001b[0m\u001b[0mTable\u001b[0m\u001b[0;34m)\u001b[0m \u001b[0;34m->\u001b[0m \u001b[0mlist\u001b[0m\u001b[0;34m:\u001b[0m\u001b[0;34m\u001b[0m\u001b[0;34m\u001b[0m\u001b[0m\n",
      "\u001b[0;31mKeyboardInterrupt\u001b[0m: "
     ]
    }
   ],
   "source": [
    "from datasets import Dataset\n",
    "data = Dataset.from_dict(firstdataset)\n",
    "print((data)[0])"
   ]
  },
  {
   "cell_type": "code",
   "execution_count": 49,
   "id": "supreme-commons",
   "metadata": {},
   "outputs": [
    {
     "name": "stdout",
     "output_type": "stream",
     "text": [
      "{'text': 'Lil pump'}\n"
     ]
    }
   ],
   "source": [
    "print(data[0]['train'])"
   ]
  },
  {
   "cell_type": "code",
   "execution_count": 50,
   "id": "engaging-greece",
   "metadata": {},
   "outputs": [
    {
     "name": "stdout",
     "output_type": "stream",
     "text": [
      "<class 'str'>\n"
     ]
    }
   ],
   "source": [
    "print(type(data['train'][0]['text']))"
   ]
  },
  {
   "cell_type": "code",
   "execution_count": 51,
   "id": "conservative-screening",
   "metadata": {},
   "outputs": [
    {
     "name": "stdout",
     "output_type": "stream",
     "text": [
      "Dataset({\n",
      "    features: ['train'],\n",
      "    num_rows: 1181270\n",
      "})\n"
     ]
    }
   ],
   "source": [
    "print(data)"
   ]
  },
  {
   "cell_type": "code",
   "execution_count": 46,
   "id": "blocked-processing",
   "metadata": {},
   "outputs": [
    {
     "name": "stdout",
     "output_type": "stream",
     "text": [
      "<class 'dict'>\n",
      "<class 'datasets.table.MemoryMappedTable'>\n"
     ]
    }
   ],
   "source": [
    "print(type(firstdataset.data))\n",
    "print(type(firstdataset.data['train']))"
   ]
  },
  {
   "cell_type": "code",
   "execution_count": null,
   "id": "certain-russell",
   "metadata": {},
   "outputs": [],
   "source": []
  }
 ],
 "metadata": {
  "kernelspec": {
   "display_name": "Python 3 (ipykernel)",
   "language": "python",
   "name": "python3"
  },
  "language_info": {
   "codemirror_mode": {
    "name": "ipython",
    "version": 3
   },
   "file_extension": ".py",
   "mimetype": "text/x-python",
   "name": "python",
   "nbconvert_exporter": "python",
   "pygments_lexer": "ipython3",
   "version": "3.9.0"
  }
 },
 "nbformat": 4,
 "nbformat_minor": 5
}
